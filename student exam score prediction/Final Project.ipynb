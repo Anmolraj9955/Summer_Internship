{
  "cells": [
    {
      "cell_type": "code",
      "execution_count": 5,
      "metadata": {
        "colab": {
          "base_uri": "https://localhost:8080/"
        },
        "id": "rN1oXeDEUlIx",
        "outputId": "bf84d9c5-5924-4726-b173-8e15f040b08b"
      },
      "outputs": [
        {
          "name": "stdout",
          "output_type": "stream",
          "text": [
            "Mean Absolute Error: 1.3394159082670907\n",
            "Mean Squared Error: 4.466503212015601\n",
            "R-squared: 0.7821754247320557\n",
            "Trained model saved as student_exam_score_predictor.pkl\n"
          ]
        }
      ],
      "source": [
        "import pandas as pd\n",
        "from sklearn.model_selection import train_test_split\n",
        "from sklearn.linear_model import LinearRegression\n",
        "from sklearn.metrics import mean_absolute_error, mean_squared_error, r2_score\n",
        "import joblib\n",
        "\n",
        "# Load the dataset and correct delimiter\n",
        "data = pd.read_csv(\"student-mat.csv\", delimiter=';')\n",
        "\n",
        "# Update these feature names \n",
        "features = ['studytime', 'failures', 'absences', 'G1', 'G2']\n",
        "target = 'G3'\n",
        "\n",
        "# Prepare \n",
        "X = data[features]\n",
        "y = data[target]\n",
        "\n",
        "# Split the data into training and testing sets\n",
        "X_train, X_test, y_train, y_test = train_test_split(X, y, test_size=0.2, random_state=42)\n",
        "\n",
        "# Train a Linear Regression model\n",
        "model = LinearRegression()\n",
        "model.fit(X_train, y_train)\n",
        "\n",
        "# Make predictions\n",
        "y_pred = model.predict(X_test)\n",
        "\n",
        "# Evaluate the model\n",
        "mae = mean_absolute_error(y_test, y_pred)\n",
        "mse = mean_squared_error(y_test, y_pred)\n",
        "r2 = r2_score(y_test, y_pred)\n",
        "\n",
        "# Print evaluation metrics\n",
        "print(f'Mean Absolute Error: {mae}')\n",
        "print(f'Mean Squared Error: {mse}')\n",
        "print(f'R-squared: {r2}')\n",
        "\n",
        "# Save the trained model\n",
        "model_filename = 'student_exam_score_predictor.pkl'\n",
        "joblib.dump(model, model_filename)\n",
        "print(f'Trained model saved as {model_filename}')\n",
        "\n",
        "# Load the trained model (for future use)\n",
        "model = joblib.load(model_filename)\n",
        "\n",
        "# Function to predict future marks\n",
        "def predict_future_marks(studytime, failures, absences, G1, G2):\n",
        "    input_data = pd.DataFrame([[studytime, failures, absences, G1, G2]], columns=features)\n",
        "    prediction = model.predict(input_data)\n",
        "    return prediction[0]\n"
      ]
    },
    {
      "cell_type": "code",
      "execution_count": 4,
      "metadata": {
        "colab": {
          "base_uri": "https://localhost:8080/"
        },
        "id": "bNGje8gXrbi6",
        "outputId": "fdc97059-32e2-4573-8246-254c5a6c99d2"
      },
      "outputs": [
        {
          "name": "stdout",
          "output_type": "stream",
          "text": [
            "Enter the following details for the new student:\n",
            "Study time (1-4): 2\n",
            "Number of past class failures (0-3): 0\n",
            "Number of school absences: 20\n",
            "First period grade (0-20): 15\n",
            "Second period grade (0-20): 20\n",
            "Predicted marks for the new student: 20.780381283566633\n"
          ]
        }
      ],
      "source": [
        "import pandas as pd\n",
        "import joblib\n",
        "\n",
        "# Load the trained model\n",
        "model_filename = 'student_exam_score_predictor.pkl'\n",
        "model = joblib.load(model_filename)\n",
        "\n",
        "# Define the features used in the model\n",
        "features = ['studytime', 'failures', 'absences', 'G1', 'G2']\n",
        "\n",
        "# Function to predict future marks\n",
        "def predict_future_marks(studytime, failures, absences, G1, G2):\n",
        "    input_data = pd.DataFrame([[studytime, failures, absences, G1, G2]], columns=features)\n",
        "    prediction = model.predict(input_data)\n",
        "    return prediction[0]\n",
        "\n",
        "# Get input from the user for a new student\n",
        "def get_user_input():\n",
        "    print(\"Enter the following details for the new student:\")\n",
        "    studytime = float(input(\"Study time (1-4): \"))\n",
        "    failures = int(input(\"Number of past class failures (0-3): \"))\n",
        "    absences = int(input(\"Number of school absences: \"))\n",
        "    G1 = int(input(\"First period grade (0-20): \"))\n",
        "    G2 = int(input(\"Second period grade (0-20): \"))\n",
        "    return studytime, failures, absences, G1, G2\n",
        "\n",
        "# Main function\n",
        "def main():\n",
        "    # Get new student data from user input\n",
        "    studytime, failures, absences, G1, G2 = get_user_input()\n",
        "\n",
        "    # Predict future marks\n",
        "    predicted_marks = predict_future_marks(studytime, failures, absences, G1, G2)\n",
        "\n",
        "    # Display the prediction\n",
        "    print(f'Predicted marks for the new student: {predicted_marks}')\n",
        "\n",
        "if __name__ == \"__main__\":\n",
        "    main()\n"
      ]
    },
    {
      "cell_type": "markdown",
      "metadata": {
        "id": "ROkaaFHGUpAZ"
      },
      "source": [
        "# New Section"
      ]
    }
  ],
  "metadata": {
    "colab": {
      "provenance": []
    },
    "kernelspec": {
      "display_name": "Python 3",
      "name": "python3"
    },
    "language_info": {
      "name": "python"
    }
  },
  "nbformat": 4,
  "nbformat_minor": 0
}
